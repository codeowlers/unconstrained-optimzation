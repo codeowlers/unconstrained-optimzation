{
 "cells": [
  {
   "cell_type": "code",
   "execution_count": 1,
   "metadata": {
    "pycharm": {
     "is_executing": true
    }
   },
   "outputs": [],
   "source": [
    "# Import the necessary libraries\n",
    "import numpy as np\n",
    "import matplotlib.pyplot as plt\n",
    "from algorithms import *"
   ]
  },
  {
   "cell_type": "code",
   "execution_count": 2,
   "metadata": {},
   "outputs": [],
   "source": [
    "# # Define the range of x and y values to plot\n",
    "# x = np.linspace(-2, 2, 1000)\n",
    "# y = np.linspace(-2, 2, 1000)\n",
    "# X, Y = np.meshgrid(x, y)\n",
    "# Z = generalized_brown([X, Y])\n",
    "\n",
    "# # Plot the contour of the Rosenbrock function\n",
    "# plt.contourf(X, Y, Z, levels=100, cmap='RdGy')\n",
    "# plt.colorbar()\n",
    "\n",
    "# # Display the plot\n",
    "# plt.show()"
   ]
  },
  {
   "attachments": {},
   "cell_type": "markdown",
   "metadata": {},
   "source": [
    "Implement minimization methods on ROSENBROCK using x0 = [1.2, 1.2] and x0 = [-1.2, 1]"
   ]
  },
  {
   "cell_type": "code",
   "execution_count": 3,
   "metadata": {},
   "outputs": [
    {
     "name": "stdout",
     "output_type": "stream",
     "text": [
      "Starting point: x0 = [1.2 1.2] \n",
      "\n",
      "Optimal point (Newton): x_opt =[1. 1.]\n",
      "Number of iterations (Newton):8\n",
      "Elapsed time (Newton): 0.022998332977294922 seconds \n",
      "\n",
      "Optimal point (Steepest Descent): x_opt =[1.08710938 1.246875  ]\n",
      "Number of iterations (Steepest Descent):100\n",
      "Elapsed time (Steepest Descent): 0.18199515342712402 seconds \n",
      "\n",
      "Starting point: x0 = [-1.2  1. ] \n",
      "\n",
      "Optimal point (Newton): x_opt =[1. 1.]\n",
      "Number of iterations (Newton):21\n",
      "Elapsed time (Newton): 0.0040035247802734375 seconds \n",
      "\n",
      "Optimal point (Steepest Descent): x_opt =[-0.98945313  1.0859375 ]\n",
      "Number of iterations (Steepest Descent):100\n",
      "Elapsed time (Steepest Descent): 0.07399392127990723 seconds \n",
      "\n"
     ]
    }
   ],
   "source": [
    "# Set the first starting point x0 = [1.2, 1.2]\n",
    "x0 = np.array([1.2, 1.2])\n",
    "# Print the starting point\n",
    "print(\"Starting point: x0 =\", x0,'\\n')\n",
    "\n",
    "# Find the optimal point, number of iterations, and elapsed time using the newton_back_tracking method\n",
    "x_opt, iter, elapsed_time = newton_back_tracking(x0, rosenbrock, rosenbrock_gradient, rosenbrock_hessian, epsilon=1e-8, max_iter=100, c=1e-4, rho=0.5)\n",
    "\n",
    "# Print the results\n",
    "results_out('Newton',x_opt,iter,elapsed_time)\n",
    "\n",
    "# Find the optimal point, number of iterations, and elapsed time using the steepest_descent_back_tracking method\n",
    "# x_opt, iter, elapsed_time = steepest_descent_back_tracking(x0,c=1e-4, rho=0.5)\n",
    "\n",
    "x_opt, iter, elapsed_time = steepest_descent_back_tracking(x0,rosenbrock, rosenbrock_gradient, epsilon=1e-8, max_iter=100, c=1e-4, rho=0.5)\n",
    "# Print the results\n",
    "results_out('Steepest Descent',x_opt,iter,elapsed_time)\n",
    "\n",
    "# Set the second starting point x0 = [-1.2, 1]\n",
    "x0 = np.array([-1.2, 1])\n",
    "\n",
    "# Print the starting point\n",
    "print(\"Starting point: x0 =\", x0,'\\n')\n",
    "\n",
    "# Find the optimal point, number of iterations, and elapsed time using the newton_back_tracking method\n",
    "x_opt, iter, elapsed_time = newton_back_tracking(x0, rosenbrock, rosenbrock_gradient, rosenbrock_hessian, epsilon=1e-8, max_iter=100, c=1e-4, rho=0.5)\n",
    "# Print the results\n",
    "results_out('Newton',x_opt,iter,elapsed_time)\n",
    "\n",
    "\n",
    "# Find the optimal point, number of iterations, and elapsed time using the steepest_descent_back_tracking method\n",
    "x_opt, iter, elapsed_time = steepest_descent_back_tracking(x0,rosenbrock, rosenbrock_gradient, epsilon=1e-8, max_iter=100, c=1e-4, rho=0.5)\n",
    "# Print the results\n",
    "results_out('Steepest Descent',x_opt,iter,elapsed_time)\n",
    "\n"
   ]
  },
  {
   "attachments": {},
   "cell_type": "markdown",
   "metadata": {},
   "source": [
    "Implement minimization methods on CHAINED ROSENBROCK"
   ]
  },
  {
   "cell_type": "code",
   "execution_count": 4,
   "metadata": {},
   "outputs": [
    {
     "name": "stdout",
     "output_type": "stream",
     "text": [
      "Starting point: x0 = [ 1.  -1.2  1.  -1.2  1.  -1.2  1.  -1.2  1.  -1.2] \n",
      "\n",
      "Optimal point (Newton): x_opt =[ 0.5277721  -0.98571833  0.46190461 -1.0055531   0.46197389 -1.0290635\n",
      "  0.52717501 -0.78310526 -0.1        -3.12522631]\n",
      "Number of iterations (Newton):100\n",
      "Elapsed time (Newton): 0.2773780822753906 seconds \n",
      "\n",
      "Optimal point (Steepest Descent): x_opt =[-0.71875    -0.77890625 -0.71875    -0.77890625 -0.71875    -0.77890625\n",
      " -0.71875    -0.77890625 -0.71875    -0.340625  ]\n",
      "Number of iterations (Steepest Descent):100\n",
      "Elapsed time (Steepest Descent): 0.23600244522094727 seconds \n",
      "\n"
     ]
    }
   ],
   "source": [
    "# Define the initial guess for the optimization problem\n",
    "d = 1\n",
    "n = 10 ** d\n",
    "x0 = np.zeros(n)\n",
    "for i in range(n):\n",
    "    if (i % 2) == 1:\n",
    "        x0[i] = -1.2\n",
    "    else:\n",
    "        x0[i] = 1.0\n",
    "\n",
    "# Print the starting point\n",
    "print(\"Starting point: x0 =\", x0,'\\n')\n",
    "\n",
    "# Find the optimal point, number of iterations, and elapsed time using the newton_back_tracking method\n",
    "x_opt, iter, elapsed_time = newton_back_tracking(x0, chained_rosenbrock, chained_rosenbrock_gradient, chained_rosenbrock_hessian, epsilon=1e-8, max_iter=100, c=1e-4, rho=0.5)\n",
    "\n",
    "# Print the results\n",
    "results_out('Newton',x_opt,iter,elapsed_time)\n",
    "\n",
    "# Find the optimal point, number of iterations, and elapsed time using the steepest_descent_back_tracking method\n",
    "# x_opt, iter, elapsed_time = steepest_descent_back_tracking(x0,c=1e-4, rho=0.5)\n",
    "\n",
    "x_opt, iter, elapsed_time = steepest_descent_back_tracking(x0,chained_rosenbrock, chained_rosenbrock_gradient, epsilon=1e-8, max_iter=100, c=1e-4, rho=0.5)\n",
    "# Print the results\n",
    "results_out('Steepest Descent',x_opt,iter,elapsed_time)\n"
   ]
  },
  {
   "attachments": {},
   "cell_type": "markdown",
   "metadata": {},
   "source": [
    "Implement minimization methods on GENERALIZED BROWN"
   ]
  },
  {
   "cell_type": "code",
   "execution_count": 5,
   "metadata": {},
   "outputs": [
    {
     "name": "stdout",
     "output_type": "stream",
     "text": [
      "Starting point: x0 = [ 1. -1.  1. -1.  1. -1.  1. -1.  1. -1.  1. -1.  1. -1.  1. -1.  1. -1.\n",
      "  1. -1.  1. -1.  1. -1.  1. -1.  1. -1.  1. -1.  1. -1.  1. -1.  1. -1.\n",
      "  1. -1.  1. -1.  1. -1.  1. -1.  1. -1.  1. -1.  1. -1.  1. -1.  1. -1.\n",
      "  1. -1.  1. -1.  1. -1.  1. -1.  1. -1.  1. -1.  1. -1.  1. -1.  1. -1.\n",
      "  1. -1.  1. -1.  1. -1.  1. -1.  1. -1.  1. -1.  1. -1.  1. -1.  1. -1.\n",
      "  1. -1.  1. -1.  1. -1.  1. -1.  1. -1.] \n",
      "\n",
      "Optimal point (Newton): x_opt =[ 1. -1.  1. -1.  1. -1.  1. -1.  1. -1.  1. -1.  1. -1.  1. -1.  1. -1.\n",
      "  1. -1.  1. -1.  1. -1.  1. -1.  1. -1.  1. -1.  1. -1.  1. -1.  1. -1.\n",
      "  1. -1.  1. -1.  1. -1.  1. -1.  1. -1.  1. -1.  1. -1.  1. -1.  1. -1.\n",
      "  1. -1.  1. -1.  1. -1.  1. -1.  1. -1.  1. -1.  1. -1.  1. -1.  1. -1.\n",
      "  1. -1.  1. -1.  1. -1.  1. -1.  1. -1.  1. -1.  1. -1.  1. -1.  1. -1.\n",
      "  1. -1.  1. -1.  1. -1.  1. -1.  1. -1.]\n",
      "Number of iterations (Newton):0\n",
      "Elapsed time (Newton): 0.0 seconds \n",
      "\n",
      "Optimal point (Steepest Descent): x_opt =[ 1. -1.  1. -1.  1. -1.  1. -1.  1. -1.  1. -1.  1. -1.  1. -1.  1. -1.\n",
      "  1. -1.  1. -1.  1. -1.  1. -1.  1. -1.  1. -1.  1. -1.  1. -1.  1. -1.\n",
      "  1. -1.  1. -1.  1. -1.  1. -1.  1. -1.  1. -1.  1. -1.  1. -1.  1. -1.\n",
      "  1. -1.  1. -1.  1. -1.  1. -1.  1. -1.  1. -1.  1. -1.  1. -1.  1. -1.\n",
      "  1. -1.  1. -1.  1. -1.  1. -1.  1. -1.  1. -1.  1. -1.  1. -1.  1. -1.\n",
      "  1. -1.  1. -1.  1. -1.  1. -1.  1. -1.]\n",
      "Number of iterations (Steepest Descent):0\n",
      "Elapsed time (Steepest Descent): 0.0 seconds \n",
      "\n"
     ]
    }
   ],
   "source": [
    "# Define the initial guess for the optimization problem\n",
    "d = 2\n",
    "n = 10 ** d\n",
    "x0 = np.zeros(n)\n",
    "for i in range(n):\n",
    "    if (i % 2) == 1:\n",
    "        x0[i] = -1\n",
    "    else:\n",
    "        x0[i] = 1.0\n",
    "\n",
    "# Print the starting point\n",
    "print(\"Starting point: x0 =\", x0,'\\n')\n",
    "\n",
    "# Find the optimal point, number of iterations, and elapsed time using the newton_back_tracking method\n",
    "x_opt, iter, elapsed_time = newton_back_tracking(x0, generalized_brown, generalized_brown_gradient, generalized_brown_hessian, epsilon=1e-8, max_iter=100, c=1e-4, rho=0.5)\n",
    "\n",
    "# Print the results\n",
    "results_out('Newton',x_opt,iter,elapsed_time)\n",
    "\n",
    "# Find the optimal point, number of iterations, and elapsed time using the steepest_descent_back_tracking method\n",
    "# x_opt, iter, elapsed_time = steepest_descent_back_tracking(x0,c=1e-4, rho=0.5)\n",
    "\n",
    "x_opt, iter, elapsed_time = steepest_descent_back_tracking(x0,generalized_brown, generalized_brown_gradient, epsilon=1e-8, max_iter=100, c=1e-4, rho=0.5)\n",
    "# Print the results\n",
    "results_out('Steepest Descent',x_opt,iter,elapsed_time)\n"
   ]
  },
  {
   "attachments": {},
   "cell_type": "markdown",
   "metadata": {},
   "source": [
    "Implement minimization methods on PROBLEM 76"
   ]
  },
  {
   "cell_type": "code",
   "execution_count": 9,
   "metadata": {},
   "outputs": [
    {
     "name": "stdout",
     "output_type": "stream",
     "text": [
      "Starting point: x0 = [2. 2. 2. 2. 2. 2. 2. 2. 2. 2.] \n",
      "\n",
      "Optimal point (Newton): x_opt =[4.10628658e-10 4.10629636e-10 4.10628894e-10 4.10629636e-10\n",
      " 4.10628894e-10 4.10629636e-10 4.10628894e-10 4.10629636e-10\n",
      " 4.10628894e-10 4.10627985e-10]\n",
      "Number of iterations (Newton):23\n",
      "Elapsed time (Newton): 0.008990287780761719 seconds \n",
      "\n",
      "Optimal point (Steepest Descent): x_opt =[-0.5 -0.5 -0.5 -0.5 -0.5 -0.5 -0.5 -0.5 -0.5 -0.5]\n",
      "Number of iterations (Steepest Descent):100\n",
      "Elapsed time (Steepest Descent): 0.20104479789733887 seconds \n",
      "\n"
     ]
    }
   ],
   "source": [
    "# Define the initial guess for the optimization problem\n",
    "d = 1\n",
    "n = 10 ** d\n",
    "x0 = np.zeros(n)\n",
    "for l in range(n):\n",
    "    # if (l >= 1):\n",
    "    x0[l] = 2\n",
    "    \n",
    "\n",
    "# Print the starting point\n",
    "print(\"Starting point: x0 =\", x0,'\\n')\n",
    "\n",
    "# Find the optimal point, number of iterations, and elapsed time using the newton_back_tracking method\n",
    "x_opt, iter, elapsed_time = newton_back_tracking(x0, generalized_brown, generalized_brown_gradient, generalized_brown_hessian, epsilon=1e-8, max_iter=100, c=1e-4, rho=0.5)\n",
    "\n",
    "# Print the results\n",
    "results_out('Newton',x_opt,iter,elapsed_time)\n",
    "\n",
    "# Find the optimal point, number of iterations, and elapsed time using the steepest_descent_back_tracking method\n",
    "# x_opt, iter, elapsed_time = steepest_descent_back_tracking(x0,c=1e-4, rho=0.5)\n",
    "\n",
    "x_opt, iter, elapsed_time = steepest_descent_back_tracking(x0,generalized_brown, generalized_brown_gradient, epsilon=1e-8, max_iter=100, c=1e-4, rho=0.5)\n",
    "# Print the results\n",
    "results_out('Steepest Descent',x_opt,iter,elapsed_time)\n"
   ]
  }
 ],
 "metadata": {
  "kernelspec": {
   "display_name": "venv",
   "language": "python",
   "name": "python3"
  },
  "language_info": {
   "codemirror_mode": {
    "name": "ipython",
    "version": 3
   },
   "file_extension": ".py",
   "mimetype": "text/x-python",
   "name": "python",
   "nbconvert_exporter": "python",
   "pygments_lexer": "ipython3",
   "version": "3.10.2"
  },
  "orig_nbformat": 4,
  "vscode": {
   "interpreter": {
    "hash": "7af9525b5e638f66f97bbc4bd01d94d236c015f4bf0deb5835770f8430b16297"
   }
  }
 },
 "nbformat": 4,
 "nbformat_minor": 2
}
