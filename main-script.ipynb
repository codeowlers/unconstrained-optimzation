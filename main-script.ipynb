{
 "cells": [
  {
   "cell_type": "code",
   "execution_count": 1,
   "metadata": {
    "pycharm": {
     "is_executing": true
    }
   },
   "outputs": [],
   "source": [
    "# Import the necessary libraries\n",
    "import numpy as np\n",
    "from algorithms import newton, steepest_descent"
   ]
  },
  {
   "cell_type": "code",
   "execution_count": 2,
   "metadata": {},
   "outputs": [
    {
     "name": "stdout",
     "output_type": "stream",
     "text": [
      "Starting point: x0 = [1.2 1.2]\n",
      "Optimal point (Newton method): x_opt = [0.999998 0.999996]\n",
      "Number of iterations (Newton method): 5\n",
      "Elapsed time (Newton method): 0.0005888938903808594 seconds\n",
      "Optimal point (Steepest Descent method): x_opt = [1.0844 1.248 ]\n",
      "Number of iterations (Steepest Descent method): 100\n",
      "Elapsed time (Steepest Descent method): 0.0013511180877685547 seconds\n"
     ]
    }
   ],
   "source": [
    "# Set the first starting point x0 = [1.2, 1.2]\n",
    "x0 = np.array([1.2, 1.2])\n",
    "# Print the starting point\n",
    "print(\"Starting point: x0 =\", x0)\n",
    "\n",
    "# Find the optimal point, number of iterations, and elapsed time using the Newton method\n",
    "x_opt, iter, elapsed_time = newton(x0)\n",
    "\n",
    "# Print the results\n",
    "print(\"Optimal point (Newton method): x_opt =\", x_opt)\n",
    "print(\"Number of iterations (Newton method):\", iter)\n",
    "print(\"Elapsed time (Newton method):\", elapsed_time, \"seconds\")\n",
    "\n",
    "# Find the optimal point, number of iterations, and elapsed time using the Newton method\n",
    "x_opt, iter, elapsed_time = steepest_descent(x0)\n",
    "# Print the results\n",
    "print(\"Optimal point (Steepest Descent method): x_opt =\", x_opt)\n",
    "print(\"Number of iterations (Steepest Descent method):\", iter)\n",
    "print(\"Elapsed time (Steepest Descent method):\", elapsed_time, \"seconds\")\n"
   ]
  },
  {
   "cell_type": "code",
   "execution_count": 3,
   "metadata": {},
   "outputs": [
    {
     "name": "stdout",
     "output_type": "stream",
     "text": [
      "Starting point: x0 = [-1.2  1. ]\n",
      "Optimal point (Newton method): x_opt = [0.999998 0.999996]\n",
      "Number of iterations (Newton method): 7\n",
      "Elapsed time (Newton method): 0.0050351619720458984 seconds\n",
      "Optimal point (Steepest Descent method): x_opt = [-0.9844  1.088 ]\n",
      "Number of iterations (Steepest Descent method): 100\n",
      "Elapsed time (Steepest Descent method): 0.0010428428649902344 seconds\n"
     ]
    }
   ],
   "source": [
    "# Set the second starting point x0 = [-1.2, 1]\n",
    "x0 = np.array([-1.2, 1])\n",
    "\n",
    "# Print the starting point\n",
    "print(\"Starting point: x0 =\", x0)\n",
    "\n",
    "# Find the optimal point, number of iterations, and elapsed time using the Newton method\n",
    "x_opt, iter, elapsed_time = newton(x0)\n",
    "\n",
    "# Print the results\n",
    "print(\"Optimal point (Newton method): x_opt =\", x_opt)\n",
    "print(\"Number of iterations (Newton method):\", iter)\n",
    "print(\"Elapsed time (Newton method):\", elapsed_time, \"seconds\")\n",
    "\n",
    "# Find the optimal point, number of iterations, and elapsed time using the Newton method\n",
    "x_opt, iter, elapsed_time = steepest_descent(x0)\n",
    "# Print the results\n",
    "print(\"Optimal point (Steepest Descent method): x_opt =\", x_opt)\n",
    "print(\"Number of iterations (Steepest Descent method):\", iter)\n",
    "print(\"Elapsed time (Steepest Descent method):\", elapsed_time, \"seconds\")\n"
   ]
  }
 ],
 "metadata": {
  "kernelspec": {
   "display_name": "Python 3",
   "language": "python",
   "name": "python3"
  },
  "language_info": {
   "codemirror_mode": {
    "name": "ipython",
    "version": 3
   },
   "file_extension": ".py",
   "mimetype": "text/x-python",
   "name": "python",
   "nbconvert_exporter": "python",
   "pygments_lexer": "ipython3",
   "version": "3.10.2"
  },
  "orig_nbformat": 4,
  "vscode": {
   "interpreter": {
    "hash": "5a6207722f3be5c8aeec7a028becc5489fbd28a1705747404dde5b96b7146bf2"
   }
  }
 },
 "nbformat": 4,
 "nbformat_minor": 2
}
