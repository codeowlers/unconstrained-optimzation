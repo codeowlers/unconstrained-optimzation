{
 "cells": [
  {
   "cell_type": "code",
   "execution_count": 1,
   "metadata": {
    "pycharm": {
     "is_executing": true
    }
   },
   "outputs": [],
   "source": [
    "# Import the necessary libraries\n",
    "import numpy as np\n",
    "from algorithms import newton, newton_back_tracking, steepest_descent, steepest_descent_back_tracking,grid_search_steepest_descent"
   ]
  },
  {
   "cell_type": "code",
   "execution_count": 2,
   "metadata": {},
   "outputs": [
    {
     "name": "stdout",
     "output_type": "stream",
     "text": [
      "Starting point: x0 = [1.2 1.2] \n",
      "\n",
      "Optimal point (Newton method): x_opt = [0.99999818 0.99999635]\n",
      "Number of iterations (Newton method): 100\n",
      "Elapsed time (Newton method): 0.024113893508911133 seconds \n",
      "\n"
     ]
    }
   ],
   "source": [
    "# Set the first starting point x0 = [1.2, 1.2]\n",
    "x0 = np.array([1.2, 1.2])\n",
    "# Print the starting point\n",
    "print(\"Starting point: x0 =\", x0,'\\n')\n",
    "\n",
    "# Find the optimal point, number of iterations, and elapsed time using the newton_back_tracking method\n",
    "x_opt, iter, elapsed_time = newton_back_tracking(x0, c=1e-4, rho=0.5)\n",
    "\n",
    "# Print the results\n",
    "print(\"Optimal point (Newton method): x_opt =\", x_opt)\n",
    "print(\"Number of iterations (Newton method):\", iter)\n",
    "print(\"Elapsed time (Newton method):\", elapsed_time, \"seconds \\n\")\n",
    "\n",
    "# Find the optimal point, number of iterations, and elapsed time using the steepest_descent_back_tracking method\n",
    "# x_opt, iter, elapsed_time = steepest_descent_back_tracking(x0,c=1e-4, rho=0.5)\n",
    "\n",
    "best_x_opt, best_iter, best_elapsed_time, best_c, best_rho = grid_search_steepest_descent(x0)\n",
    "# Print the results\n",
    "print(\"Optimal point (Steepest Descent method): x_opt =\", best_x_opt)\n",
    "print(\"Number of iterations (Steepest Descent method):\", best_iter)\n",
    "print(\"Elapsed time (Steepest Descent method):\", best_elapsed_time, \"seconds\")\n",
    "print(\"best c is:\",best_c)\n",
    "print(\"best rho is:\",best_rho)\n"
   ]
  },
  {
   "cell_type": "code",
   "execution_count": null,
   "metadata": {},
   "outputs": [],
   "source": [
    "# Set the second starting point x0 = [-1.2, 1]\n",
    "x0 = np.array([-1.2, 1])\n",
    "\n",
    "# Print the starting point\n",
    "print(\"Starting point: x0 =\", x0,'\\n')\n",
    "\n",
    "# Find the optimal point, number of iterations, and elapsed time using the newton_back_tracking method\n",
    "x_opt, iter, elapsed_time = newton_back_tracking(x0, c=1e-4, rho=0.5)\n",
    "\n",
    "# Print the results\n",
    "print(\"Optimal point (Newton method): x_opt =\", x_opt)\n",
    "print(\"Number of iterations (Newton method):\", iter)\n",
    "print(\"Elapsed time (Newton method):\", elapsed_time, \"seconds \\n\")\n",
    "\n",
    "# Find the optimal point, number of iterations, and elapsed time using the steepest_descent_back_tracking method\n",
    "x_opt, iter, elapsed_time = steepest_descent_back_tracking(x0, c=1e-4, rho=0.5)\n",
    "# Print the results\n",
    "print(\"Optimal point (Steepest Descent method): x_opt =\", x_opt)\n",
    "print(\"Number of iterations (Steepest Descent method):\", iter)\n",
    "print(\"Elapsed time (Steepest Descent method):\", elapsed_time, \"seconds\")\n"
   ]
  }
 ],
 "metadata": {
  "kernelspec": {
   "display_name": "venv",
   "language": "python",
   "name": "python3"
  },
  "language_info": {
   "codemirror_mode": {
    "name": "ipython",
    "version": 3
   },
   "file_extension": ".py",
   "mimetype": "text/x-python",
   "name": "python",
   "nbconvert_exporter": "python",
   "pygments_lexer": "ipython3",
   "version": "3.10.2"
  },
  "orig_nbformat": 4,
  "vscode": {
   "interpreter": {
    "hash": "7af9525b5e638f66f97bbc4bd01d94d236c015f4bf0deb5835770f8430b16297"
   }
  }
 },
 "nbformat": 4,
 "nbformat_minor": 2
}
