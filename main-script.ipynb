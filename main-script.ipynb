{
 "cells": [
  {
   "cell_type": "code",
   "execution_count": 1,
   "metadata": {},
   "outputs": [],
   "source": [
    "# Import the necessary libraries\n",
    "import numpy as np\n",
    "import time"
   ]
  },
  {
   "cell_type": "code",
   "execution_count": 2,
   "metadata": {},
   "outputs": [],
   "source": [
    "# Define the Rosenbrock function\n",
    "def rosenbrock(x):\n",
    "    # Return the Rosenbrock function value for input x\n",
    "    return 100 * (x[1] - x[0] ** 2) ** 2 + (1 - x[0]) ** 2\n"
   ]
  },
  {
   "cell_type": "code",
   "execution_count": 3,
   "metadata": {},
   "outputs": [],
   "source": [
    "# Define the gradient of the Rosenbrock function\n",
    "def gradient(x):\n",
    "    # Return the gradient of the Rosenbrock function for input x\n",
    "    return np.array([-400 * (x[1] - x[0] ** 2) * x[0] - 2 * (1 - x[0]),\n",
    "                     200 * (x[1] - x[0] ** 2)])"
   ]
  },
  {
   "cell_type": "code",
   "execution_count": 4,
   "metadata": {},
   "outputs": [],
   "source": [
    "# Define the Hessian matrix of the Rosenbrock function\n",
    "def hessian(x):\n",
    "    # Return the Hessian matrix of the Rosenbrock function for input x\n",
    "    return np.array([[-400 * (x[1] - 3 * x[0] ** 2) + 2, -400 * x[0]],\n",
    "                     [-400 * x[0], 200]])"
   ]
  },
  {
   "cell_type": "code",
   "execution_count": 5,
   "metadata": {},
   "outputs": [],
   "source": [
    "# Define the Newton method for finding the minimum of a function\n",
    "def newton(x0, epsilon=1e-8, max_iter=100):\n",
    "    # Set the initial value for x as x0\n",
    "    x = x0\n",
    "    # Set the initial iteration number to 0\n",
    "    iter = 0\n",
    "    # Record the start time\n",
    "    start_time = time.time()\n",
    "    # Repeat until the gradient norm is less than epsilon or the number of iterations reaches max_iter\n",
    "    while np.linalg.norm(gradient(x)) >= epsilon and iter < max_iter:\n",
    "        # Increase the iteration number by 1\n",
    "        iter += 1\n",
    "        # Update x using the Newton method\n",
    "        x = x - np.linalg.inv(hessian(x)).dot(gradient(x))\n",
    "    # Record the end time\n",
    "    end_time = time.time()\n",
    "    # Return the optimal point x, the number of iterations, and the elapsed time\n",
    "    return x, iter, end_time - start_time\n"
   ]
  },
  {
   "cell_type": "code",
   "execution_count": 6,
   "metadata": {},
   "outputs": [
    {
     "name": "stdout",
     "output_type": "stream",
     "text": [
      "Starting point: x0 = [1.2 1.2]\n",
      "Optimal point: x_opt = [1. 1.]\n",
      "Number of iterations: 5\n",
      "Elapsed time: 0.007996559143066406 seconds\n"
     ]
    }
   ],
   "source": [
    "# Set the first starting point x0 = [1.2, 1.2]\n",
    "x0 = np.array([1.2, 1.2])\n",
    "# Print the starting point\n",
    "print(\"Starting point: x0 =\", x0)\n",
    "# Find the optimal point, number of iterations, and elapsed time using the Newton method\n",
    "x_opt, iter, elapsed_time = newton(x0)\n",
    "# Print the results\n",
    "print(\"Optimal point: x_opt =\", x_opt)\n",
    "print(\"Number of iterations:\", iter)\n",
    "print(\"Elapsed time:\", elapsed_time, \"seconds\")"
   ]
  },
  {
   "cell_type": "code",
   "execution_count": 9,
   "metadata": {},
   "outputs": [
    {
     "name": "stdout",
     "output_type": "stream",
     "text": [
      "\n",
      "Starting point: x0 = [-1.2  1. ]\n",
      "Optimal point: x_opt = [1. 1.]\n",
      "Number of iterations: 6\n",
      "Elapsed time: 0.002997159957885742 seconds\n"
     ]
    }
   ],
   "source": [
    "# Set the second starting point x0 = [-1.2, 1]\n",
    "x0 = np.array([-1.2, 1])\n",
    "# Print the starting point\n",
    "print(\"\\nStarting point: x0 =\", x0)\n",
    "# Find the optimal point, number of iterations, and elapsed time using the Newton method\n",
    "x_opt, iter, elapsed_time = newton(x0)\n",
    "# Print the results\n",
    "print(\"Optimal point: x_opt =\", x_opt)\n",
    "print(\"Number of iterations:\", iter)\n",
    "print(\"Elapsed time:\", elapsed_time, \"seconds\")"
   ]
  }
 ],
 "metadata": {
  "kernelspec": {
   "display_name": "Python 3",
   "language": "python",
   "name": "python3"
  },
  "language_info": {
   "codemirror_mode": {
    "name": "ipython",
    "version": 3
   },
   "file_extension": ".py",
   "mimetype": "text/x-python",
   "name": "python",
   "nbconvert_exporter": "python",
   "pygments_lexer": "ipython3",
   "version": "3.10.2"
  },
  "orig_nbformat": 4,
  "vscode": {
   "interpreter": {
    "hash": "5a6207722f3be5c8aeec7a028becc5489fbd28a1705747404dde5b96b7146bf2"
   }
  }
 },
 "nbformat": 4,
 "nbformat_minor": 2
}
