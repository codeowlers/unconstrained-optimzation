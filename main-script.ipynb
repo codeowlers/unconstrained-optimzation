{
 "cells": [
  {
   "cell_type": "code",
   "execution_count": 1,
   "metadata": {
    "pycharm": {
     "is_executing": true
    }
   },
   "outputs": [],
   "source": [
    "# Import the necessary libraries\n",
    "import numpy as np\n",
    "from algorithms import newton, newton_back_tracking, steepest_descent, steepest_descent_back_tracking,grid_search_steepest_descent\n",
    "from algorithms import rosenbrock, rosenbrock_gradient, rosenbrock_hessian"
   ]
  },
  {
   "cell_type": "code",
   "execution_count": 2,
   "metadata": {},
   "outputs": [
    {
     "name": "stdout",
     "output_type": "stream",
     "text": [
      "Starting point: x0 = [1.2 1.2] \n",
      "\n",
      "Optimal point (Newton method): x_opt = [1. 1.]\n",
      "Number of iterations (Newton method): 8\n",
      "Elapsed time (Newton method): 0.003002166748046875 seconds \n",
      "\n",
      "Optimal point (Steepest Descent method): x_opt = [1.08710938 1.246875  ]\n",
      "Number of iterations (Steepest Descent method): 100\n",
      "Elapsed time (Steepest Descent method): 0.09200286865234375 seconds\n"
     ]
    }
   ],
   "source": [
    "# Set the first starting point x0 = [1.2, 1.2]\n",
    "x0 = np.array([1.2, 1.2])\n",
    "# Print the starting point\n",
    "print(\"Starting point: x0 =\", x0,'\\n')\n",
    "\n",
    "# Find the optimal point, number of iterations, and elapsed time using the newton_back_tracking method\n",
    "x_opt, iter, elapsed_time = newton_back_tracking(x0, rosenbrock, rosenbrock_gradient, rosenbrock_hessian, c=1e-4, rho=0.5)\n",
    "\n",
    "# Print the results\n",
    "print(\"Optimal point (Newton method): x_opt =\", x_opt)\n",
    "print(\"Number of iterations (Newton method):\", iter)\n",
    "print(\"Elapsed time (Newton method):\", elapsed_time, \"seconds \\n\")\n",
    "\n",
    "# Find the optimal point, number of iterations, and elapsed time using the steepest_descent_back_tracking method\n",
    "# x_opt, iter, elapsed_time = steepest_descent_back_tracking(x0,c=1e-4, rho=0.5)\n",
    "\n",
    "x_opt, iter, elapsed_time = steepest_descent_back_tracking(x0,rosenbrock, rosenbrock_gradient, epsilon=1e-8, max_iter=100)\n",
    "# Print the results\n",
    "print(\"Optimal point (Steepest Descent method): x_opt =\", x_opt)\n",
    "print(\"Number of iterations (Steepest Descent method):\", iter)\n",
    "print(\"Elapsed time (Steepest Descent method):\", elapsed_time, \"seconds\")"
   ]
  },
  {
   "cell_type": "code",
   "execution_count": 3,
   "metadata": {},
   "outputs": [
    {
     "name": "stdout",
     "output_type": "stream",
     "text": [
      "Starting point: x0 = [-1.2  1. ] \n",
      "\n",
      "Optimal point (Newton method): x_opt = [1. 1.]\n",
      "Number of iterations (Newton method): 21\n",
      "Elapsed time (Newton method): 0.0030260086059570312 seconds \n",
      "\n",
      "Optimal point (Steepest Descent method): x_opt = [-0.98945313  1.0859375 ]\n",
      "Number of iterations (Steepest Descent method): 100\n",
      "Elapsed time (Steepest Descent method): 0.07198762893676758 seconds\n"
     ]
    }
   ],
   "source": [
    "# Set the second starting point x0 = [-1.2, 1]\n",
    "x0 = np.array([-1.2, 1])\n",
    "\n",
    "# Print the starting point\n",
    "print(\"Starting point: x0 =\", x0,'\\n')\n",
    "\n",
    "# Find the optimal point, number of iterations, and elapsed time using the newton_back_tracking method\n",
    "x_opt, iter, elapsed_time = newton_back_tracking(x0, rosenbrock, rosenbrock_gradient, rosenbrock_hessian, c=1e-4, rho=0.5)\n",
    "\n",
    "# Print the results\n",
    "print(\"Optimal point (Newton method): x_opt =\", x_opt)\n",
    "print(\"Number of iterations (Newton method):\", iter)\n",
    "print(\"Elapsed time (Newton method):\", elapsed_time, \"seconds \\n\")\n",
    "\n",
    "# Find the optimal point, number of iterations, and elapsed time using the steepest_descent_back_tracking method\n",
    "x_opt, iter, elapsed_time = steepest_descent_back_tracking(x0,rosenbrock, rosenbrock_gradient, epsilon=1e-8, max_iter=100)\n",
    "\n",
    "# Print the results\n",
    "print(\"Optimal point (Steepest Descent method): x_opt =\", x_opt)\n",
    "print(\"Number of iterations (Steepest Descent method):\", iter)\n",
    "print(\"Elapsed time (Steepest Descent method):\", elapsed_time, \"seconds\")\n"
   ]
  }
 ],
 "metadata": {
  "kernelspec": {
   "display_name": "venv",
   "language": "python",
   "name": "python3"
  },
  "language_info": {
   "codemirror_mode": {
    "name": "ipython",
    "version": 3
   },
   "file_extension": ".py",
   "mimetype": "text/x-python",
   "name": "python",
   "nbconvert_exporter": "python",
   "pygments_lexer": "ipython3",
   "version": "3.10.2"
  },
  "orig_nbformat": 4,
  "vscode": {
   "interpreter": {
    "hash": "7af9525b5e638f66f97bbc4bd01d94d236c015f4bf0deb5835770f8430b16297"
   }
  }
 },
 "nbformat": 4,
 "nbformat_minor": 2
}
