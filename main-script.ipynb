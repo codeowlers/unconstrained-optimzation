{
 "cells": [
  {
   "cell_type": "code",
   "execution_count": 1,
   "metadata": {
    "pycharm": {
     "is_executing": true
    }
   },
   "outputs": [],
   "source": [
    "# Import the necessary libraries\n",
    "import numpy as np\n",
    "from algorithms import newton, steepest_descent"
   ]
  },
  {
   "cell_type": "code",
   "execution_count": 2,
   "metadata": {},
   "outputs": [
    {
     "name": "stdout",
     "output_type": "stream",
     "text": [
      "Starting point: x0 = [1.2 1.2] \n",
      "\n",
      "Optimal point (Newton method): x_opt = [0.999998 0.999996]\n",
      "Number of iterations (Newton method): 5\n",
      "Elapsed time (Newton method): 0.0029969215393066406 seconds \n",
      "\n",
      "Optimal point (Steepest Descent method): x_opt = [1.08710937 1.246875  ]\n",
      "Number of iterations (Steepest Descent method): 1000\n",
      "Elapsed time (Steepest Descent method): 0.5299592018127441 seconds\n"
     ]
    }
   ],
   "source": [
    "# Set the first starting point x0 = [1.2, 1.2]\n",
    "x0 = np.array([1.2, 1.2])\n",
    "# Print the starting point\n",
    "print(\"Starting point: x0 =\", x0,'\\n')\n",
    "\n",
    "# Find the optimal point, number of iterations, and elapsed time using the Newton method\n",
    "x_opt, iter, elapsed_time = newton(x0)\n",
    "\n",
    "# Print the results\n",
    "print(\"Optimal point (Newton method): x_opt =\", x_opt)\n",
    "print(\"Number of iterations (Newton method):\", iter)\n",
    "print(\"Elapsed time (Newton method):\", elapsed_time, \"seconds \\n\")\n",
    "\n",
    "# Find the optimal point, number of iterations, and elapsed time using the Newton method\n",
    "x_opt, iter, elapsed_time = steepest_descent(x0)\n",
    "# Print the results\n",
    "print(\"Optimal point (Steepest Descent method): x_opt =\", x_opt)\n",
    "print(\"Number of iterations (Steepest Descent method):\", iter)\n",
    "print(\"Elapsed time (Steepest Descent method):\", elapsed_time, \"seconds\")\n"
   ]
  },
  {
   "cell_type": "code",
   "execution_count": 3,
   "metadata": {},
   "outputs": [
    {
     "name": "stdout",
     "output_type": "stream",
     "text": [
      "Starting point: x0 = [-1.2  1. ] \n",
      "\n",
      "Optimal point (Newton method): x_opt = [0.999998 0.999996]\n",
      "Number of iterations (Newton method): 7\n",
      "Elapsed time (Newton method): 0.0038673877716064453 seconds \n",
      "\n",
      "Optimal point (Steepest Descent method): x_opt = [-0.98945312  1.0859375 ]\n",
      "Number of iterations (Steepest Descent method): 1000\n",
      "Elapsed time (Steepest Descent method): 1.0975117683410645 seconds\n"
     ]
    }
   ],
   "source": [
    "# Set the second starting point x0 = [-1.2, 1]\n",
    "x0 = np.array([-1.2, 1])\n",
    "\n",
    "# Print the starting point\n",
    "print(\"Starting point: x0 =\", x0,'\\n')\n",
    "\n",
    "# Find the optimal point, number of iterations, and elapsed time using the Newton method\n",
    "x_opt, iter, elapsed_time = newton(x0)\n",
    "\n",
    "# Print the results\n",
    "print(\"Optimal point (Newton method): x_opt =\", x_opt)\n",
    "print(\"Number of iterations (Newton method):\", iter)\n",
    "print(\"Elapsed time (Newton method):\", elapsed_time, \"seconds \\n\")\n",
    "\n",
    "# Find the optimal point, number of iterations, and elapsed time using the Newton method\n",
    "x_opt, iter, elapsed_time = steepest_descent(x0)\n",
    "# Print the results\n",
    "print(\"Optimal point (Steepest Descent method): x_opt =\", x_opt)\n",
    "print(\"Number of iterations (Steepest Descent method):\", iter)\n",
    "print(\"Elapsed time (Steepest Descent method):\", elapsed_time, \"seconds\")\n"
   ]
  }
 ],
 "metadata": {
  "kernelspec": {
   "display_name": "venv",
   "language": "python",
   "name": "python3"
  },
  "language_info": {
   "codemirror_mode": {
    "name": "ipython",
    "version": 3
   },
   "file_extension": ".py",
   "mimetype": "text/x-python",
   "name": "python",
   "nbconvert_exporter": "python",
   "pygments_lexer": "ipython3",
   "version": "3.10.2"
  },
  "orig_nbformat": 4,
  "vscode": {
   "interpreter": {
    "hash": "7af9525b5e638f66f97bbc4bd01d94d236c015f4bf0deb5835770f8430b16297"
   }
  }
 },
 "nbformat": 4,
 "nbformat_minor": 2
}
