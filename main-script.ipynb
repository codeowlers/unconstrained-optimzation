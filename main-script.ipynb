{
 "cells": [
  {
   "cell_type": "code",
   "execution_count": 1,
   "metadata": {
    "pycharm": {
     "is_executing": true
    }
   },
   "outputs": [],
   "source": [
    "# Import the necessary libraries\n",
    "import numpy as np\n",
    "from algorithms import newton, steepest_descent"
   ]
  },
  {
   "cell_type": "code",
   "execution_count": 2,
   "metadata": {},
   "outputs": [
    {
     "name": "stdout",
     "output_type": "stream",
     "text": [
      "Starting point: x0 = [1.2 1.2] \n",
      "\n"
     ]
    },
    {
     "ename": "NameError",
     "evalue": "name 'gradient' is not defined",
     "output_type": "error",
     "traceback": [
      "\u001b[1;31m---------------------------------------------------------------------------\u001b[0m",
      "\u001b[1;31mNameError\u001b[0m                                 Traceback (most recent call last)",
      "\u001b[1;32mc:\\Users\\asus rog\\Desktop\\unconstrained-optimzation\\main-script.ipynb Cell 2\u001b[0m in \u001b[0;36m<module>\u001b[1;34m\u001b[0m\n\u001b[0;32m      <a href='vscode-notebook-cell:/c%3A/Users/asus%20rog/Desktop/unconstrained-optimzation/main-script.ipynb#X12sZmlsZQ%3D%3D?line=3'>4</a>\u001b[0m \u001b[39mprint\u001b[39m(\u001b[39m\"\u001b[39m\u001b[39mStarting point: x0 =\u001b[39m\u001b[39m\"\u001b[39m, x0,\u001b[39m'\u001b[39m\u001b[39m\\n\u001b[39;00m\u001b[39m'\u001b[39m)\n\u001b[0;32m      <a href='vscode-notebook-cell:/c%3A/Users/asus%20rog/Desktop/unconstrained-optimzation/main-script.ipynb#X12sZmlsZQ%3D%3D?line=5'>6</a>\u001b[0m \u001b[39m# Find the optimal point, number of iterations, and elapsed time using the Newton method\u001b[39;00m\n\u001b[1;32m----> <a href='vscode-notebook-cell:/c%3A/Users/asus%20rog/Desktop/unconstrained-optimzation/main-script.ipynb#X12sZmlsZQ%3D%3D?line=6'>7</a>\u001b[0m x_opt, \u001b[39miter\u001b[39m, elapsed_time \u001b[39m=\u001b[39m newton(x0)\n\u001b[0;32m      <a href='vscode-notebook-cell:/c%3A/Users/asus%20rog/Desktop/unconstrained-optimzation/main-script.ipynb#X12sZmlsZQ%3D%3D?line=8'>9</a>\u001b[0m \u001b[39m# Print the results\u001b[39;00m\n\u001b[0;32m     <a href='vscode-notebook-cell:/c%3A/Users/asus%20rog/Desktop/unconstrained-optimzation/main-script.ipynb#X12sZmlsZQ%3D%3D?line=9'>10</a>\u001b[0m \u001b[39mprint\u001b[39m(\u001b[39m\"\u001b[39m\u001b[39mOptimal point (Newton method): x_opt =\u001b[39m\u001b[39m\"\u001b[39m, x_opt)\n",
      "File \u001b[1;32mc:\\Users\\asus rog\\Desktop\\unconstrained-optimzation\\algorithms\\global_methods.py:20\u001b[0m, in \u001b[0;36mnewton\u001b[1;34m(x0, epsilon, max_iter)\u001b[0m\n\u001b[0;32m     18\u001b[0m \u001b[39miter\u001b[39m \u001b[39m+\u001b[39m\u001b[39m=\u001b[39m \u001b[39m1\u001b[39m\n\u001b[0;32m     19\u001b[0m \u001b[39m# Update x using the Newton method\u001b[39;00m\n\u001b[1;32m---> 20\u001b[0m hessian_matrix \u001b[39m=\u001b[39m hessian(rosenbrock, x)\n\u001b[0;32m     21\u001b[0m \u001b[39mtry\u001b[39;00m:\n\u001b[0;32m     22\u001b[0m     inverse \u001b[39m=\u001b[39m np\u001b[39m.\u001b[39mlinalg\u001b[39m.\u001b[39minv(hessian_matrix)\n",
      "File \u001b[1;32mc:\\Users\\asus rog\\Desktop\\unconstrained-optimzation\\algorithms\\hessian.py:11\u001b[0m, in \u001b[0;36mhessian\u001b[1;34m(f, x0, epsilon)\u001b[0m\n\u001b[0;32m      9\u001b[0m     x_minus \u001b[39m=\u001b[39m np\u001b[39m.\u001b[39mcopy(x0)\n\u001b[0;32m     10\u001b[0m     x_minus[i] \u001b[39m-\u001b[39m\u001b[39m=\u001b[39m epsilon\n\u001b[1;32m---> 11\u001b[0m     gradient_i \u001b[39m=\u001b[39m gradient(f, x_plus) \u001b[39m-\u001b[39m gradient(f, x_minus)\n\u001b[0;32m     12\u001b[0m     hessian[i] \u001b[39m=\u001b[39m gradient_i \u001b[39m/\u001b[39m (\u001b[39m2\u001b[39m \u001b[39m*\u001b[39m epsilon)\n\u001b[0;32m     13\u001b[0m \u001b[39mreturn\u001b[39;00m hessian\n",
      "\u001b[1;31mNameError\u001b[0m: name 'gradient' is not defined"
     ]
    }
   ],
   "source": [
    "# Set the first starting point x0 = [1.2, 1.2]\n",
    "x0 = np.array([1.2, 1.2])\n",
    "# Print the starting point\n",
    "print(\"Starting point: x0 =\", x0,'\\n')\n",
    "\n",
    "# Find the optimal point, number of iterations, and elapsed time using the Newton method\n",
    "x_opt, iter, elapsed_time = newton(x0)\n",
    "\n",
    "# Print the results\n",
    "print(\"Optimal point (Newton method): x_opt =\", x_opt)\n",
    "print(\"Number of iterations (Newton method):\", iter)\n",
    "print(\"Elapsed time (Newton method):\", elapsed_time, \"seconds \\n\")\n",
    "\n",
    "# Find the optimal point, number of iterations, and elapsed time using the Newton method\n",
    "x_opt, iter, elapsed_time = steepest_descent(x0)\n",
    "# Print the results\n",
    "print(\"Optimal point (Steepest Descent method): x_opt =\", x_opt)\n",
    "print(\"Number of iterations (Steepest Descent method):\", iter)\n",
    "print(\"Elapsed time (Steepest Descent method):\", elapsed_time, \"seconds\")\n"
   ]
  },
  {
   "cell_type": "code",
   "execution_count": null,
   "metadata": {},
   "outputs": [
    {
     "name": "stdout",
     "output_type": "stream",
     "text": [
      "Starting point: x0 = [-1.2  1. ] \n",
      "\n",
      "Optimal point (Newton method): x_opt = [0.999998 0.999996]\n",
      "Number of iterations (Newton method): 7\n",
      "Elapsed time (Newton method): 0.0020444393157958984 seconds \n",
      "\n",
      "Optimal point (Steepest Descent method): x_opt = [-0.9844  1.088 ]\n",
      "Number of iterations (Steepest Descent method): 100\n",
      "Elapsed time (Steepest Descent method): 0.0020012855529785156 seconds\n"
     ]
    }
   ],
   "source": [
    "# Set the second starting point x0 = [-1.2, 1]\n",
    "x0 = np.array([-1.2, 1])\n",
    "\n",
    "# Print the starting point\n",
    "print(\"Starting point: x0 =\", x0,'\\n')\n",
    "\n",
    "# Find the optimal point, number of iterations, and elapsed time using the Newton method\n",
    "x_opt, iter, elapsed_time = newton(x0)\n",
    "\n",
    "# Print the results\n",
    "print(\"Optimal point (Newton method): x_opt =\", x_opt)\n",
    "print(\"Number of iterations (Newton method):\", iter)\n",
    "print(\"Elapsed time (Newton method):\", elapsed_time, \"seconds \\n\")\n",
    "\n",
    "# Find the optimal point, number of iterations, and elapsed time using the Newton method\n",
    "x_opt, iter, elapsed_time = steepest_descent(x0)\n",
    "# Print the results\n",
    "print(\"Optimal point (Steepest Descent method): x_opt =\", x_opt)\n",
    "print(\"Number of iterations (Steepest Descent method):\", iter)\n",
    "print(\"Elapsed time (Steepest Descent method):\", elapsed_time, \"seconds\")\n"
   ]
  }
 ],
 "metadata": {
  "kernelspec": {
   "display_name": "Python 3",
   "language": "python",
   "name": "python3"
  },
  "language_info": {
   "codemirror_mode": {
    "name": "ipython",
    "version": 3
   },
   "file_extension": ".py",
   "mimetype": "text/x-python",
   "name": "python",
   "nbconvert_exporter": "python",
   "pygments_lexer": "ipython3",
   "version": "3.10.2"
  },
  "orig_nbformat": 4,
  "vscode": {
   "interpreter": {
    "hash": "5a6207722f3be5c8aeec7a028becc5489fbd28a1705747404dde5b96b7146bf2"
   }
  }
 },
 "nbformat": 4,
 "nbformat_minor": 2
}
