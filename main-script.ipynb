{
 "cells": [
  {
   "cell_type": "code",
   "execution_count": 1,
   "metadata": {
    "pycharm": {
     "is_executing": true
    }
   },
   "outputs": [],
   "source": [
    "# Import the necessary libraries\n",
    "import numpy as np\n",
    "from algorithms import newton, steepest_descent"
   ]
  },
  {
   "cell_type": "code",
   "execution_count": 2,
   "metadata": {
    "pycharm": {
     "is_executing": true
    }
   },
   "outputs": [
    {
     "name": "stdout",
     "output_type": "stream",
     "text": [
      "Starting point: x0 = [1.2 1.2]\n",
      "Optimal point: x_opt = [1. 1.]\n",
      "Number of iterations: 5\n",
      "Elapsed time: 0.0020003318786621094 seconds\n"
     ]
    }
   ],
   "source": [
    "# Set the first starting point x0 = [1.2, 1.2]\n",
    "x0 = np.array([1.2, 1.2])\n",
    "# Print the starting point\n",
    "print(\"Starting point: x0 =\", x0)\n",
    "# Find the optimal point, number of iterations, and elapsed time using the Newton method\n",
    "x_opt, iter, elapsed_time = newton(x0)\n",
    "# Print the results\n",
    "print(\"Optimal point: x_opt =\", x_opt)\n",
    "print(\"Number of iterations:\", iter)\n",
    "print(\"Elapsed time:\", elapsed_time, \"seconds\")"
   ]
  },
  {
   "cell_type": "code",
   "execution_count": 3,
   "metadata": {},
   "outputs": [
    {
     "name": "stdout",
     "output_type": "stream",
     "text": [
      "Starting point: x0 = [1.2 1.2]\n",
      "Optimal point (Newton method): x_opt = [1. 1.]\n",
      "Number of iterations (Newton method): 5\n",
      "Elapsed time (Newton method): 0.001001119613647461 seconds\n",
      "Optimal point (Steepest Descent method): x_opt = [nan inf]\n",
      "Number of iterations (Steepest Descent method): 10\n",
      "Elapsed time (Steepest Descent method): 0.003999471664428711 seconds\n"
     ]
    },
    {
     "name": "stderr",
     "output_type": "stream",
     "text": [
      "c:\\Users\\asus rog\\Desktop\\unconstrained-optimzation\\algorithms\\gradient_method.py:6: RuntimeWarning: overflow encountered in double_scalars\n",
      "  return np.array([-400 * (x[1] - x[0] ** 2) * x[0] - 2 * (1 - x[0]),\n",
      "c:\\Users\\asus rog\\Desktop\\unconstrained-optimzation\\algorithms\\global_methods.py:40: RuntimeWarning: invalid value encountered in subtract\n",
      "  x = x - learning_rate * gradient(x)\n"
     ]
    }
   ],
   "source": [
    "# Set the first starting point x0 = [1.2, 1.2]\n",
    "x0 = np.array([1.2, 1.2])\n",
    "# Print the starting point\n",
    "print(\"Starting point: x0 =\", x0)\n",
    "\n",
    "# Find the optimal point, number of iterations, and elapsed time using the Newton method\n",
    "x_opt, iter, elapsed_time = newton(x0)\n",
    "\n",
    "# Print the results\n",
    "print(\"Optimal point (Newton method): x_opt =\", x_opt)\n",
    "print(\"Number of iterations (Newton method):\", iter)\n",
    "print(\"Elapsed time (Newton method):\", elapsed_time, \"seconds\")\n",
    "\n",
    "# Find the optimal point, number of iterations, and elapsed time using the Newton method\n",
    "x_opt, iter, elapsed_time = steepest_descent(x0)\n",
    "# Print the results\n",
    "print(\"Optimal point (Steepest Descent method): x_opt =\", x_opt)\n",
    "print(\"Number of iterations (Steepest Descent method):\", iter)\n",
    "print(\"Elapsed time (Steepest Descent method):\", elapsed_time, \"seconds\")\n"
   ]
  },
  {
   "cell_type": "code",
   "execution_count": 4,
   "metadata": {},
   "outputs": [
    {
     "name": "stdout",
     "output_type": "stream",
     "text": [
      "Starting point: x0 = [-1.2  1. ]\n",
      "Optimal point (Newton method): x_opt = [1. 1.]\n",
      "Number of iterations (Newton method): 6\n",
      "Elapsed time (Newton method): 0.002204418182373047 seconds\n",
      "Optimal point (Steepest Descent method): x_opt = [inf inf]\n",
      "Number of iterations (Steepest Descent method): 8\n",
      "Elapsed time (Steepest Descent method): 0.0020225048065185547 seconds\n"
     ]
    },
    {
     "name": "stderr",
     "output_type": "stream",
     "text": [
      "c:\\Users\\asus rog\\Desktop\\unconstrained-optimzation\\algorithms\\gradient_method.py:7: RuntimeWarning: overflow encountered in double_scalars\n",
      "  200 * (x[1] - x[0] ** 2)])\n",
      "c:\\Users\\asus rog\\Desktop\\unconstrained-optimzation\\algorithms\\gradient_method.py:6: RuntimeWarning: invalid value encountered in double_scalars\n",
      "  return np.array([-400 * (x[1] - x[0] ** 2) * x[0] - 2 * (1 - x[0]),\n",
      "c:\\Users\\asus rog\\Desktop\\unconstrained-optimzation\\algorithms\\gradient_method.py:7: RuntimeWarning: invalid value encountered in double_scalars\n",
      "  200 * (x[1] - x[0] ** 2)])\n"
     ]
    }
   ],
   "source": [
    "# Set the second starting point x0 = [-1.2, 1]\n",
    "x0 = np.array([-1.2, 1])\n",
    "\n",
    "# Print the starting point\n",
    "print(\"Starting point: x0 =\", x0)\n",
    "\n",
    "# Find the optimal point, number of iterations, and elapsed time using the Newton method\n",
    "x_opt, iter, elapsed_time = newton(x0)\n",
    "\n",
    "# Print the results\n",
    "print(\"Optimal point (Newton method): x_opt =\", x_opt)\n",
    "print(\"Number of iterations (Newton method):\", iter)\n",
    "print(\"Elapsed time (Newton method):\", elapsed_time, \"seconds\")\n",
    "\n",
    "# Find the optimal point, number of iterations, and elapsed time using the Newton method\n",
    "x_opt, iter, elapsed_time = steepest_descent(x0)\n",
    "# Print the results\n",
    "print(\"Optimal point (Steepest Descent method): x_opt =\", x_opt)\n",
    "print(\"Number of iterations (Steepest Descent method):\", iter)\n",
    "print(\"Elapsed time (Steepest Descent method):\", elapsed_time, \"seconds\")\n"
   ]
  }
 ],
 "metadata": {
  "kernelspec": {
   "display_name": "Python 3",
   "language": "python",
   "name": "python3"
  },
  "language_info": {
   "codemirror_mode": {
    "name": "ipython",
    "version": 3
   },
   "file_extension": ".py",
   "mimetype": "text/x-python",
   "name": "python",
   "nbconvert_exporter": "python",
   "pygments_lexer": "ipython3",
   "version": "3.10.2"
  },
  "orig_nbformat": 4,
  "vscode": {
   "interpreter": {
    "hash": "5a6207722f3be5c8aeec7a028becc5489fbd28a1705747404dde5b96b7146bf2"
   }
  }
 },
 "nbformat": 4,
 "nbformat_minor": 2
}
