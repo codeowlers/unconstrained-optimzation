{
 "cells": [
  {
   "cell_type": "code",
   "execution_count": null,
   "metadata": {
    "pycharm": {
     "is_executing": true
    }
   },
   "outputs": [],
   "source": [
    "# Import the necessary libraries\n",
    "import numpy as np\n",
    "import matplotlib.pyplot as plt\n",
    "from algorithms import *"
   ]
  },
  {
   "cell_type": "code",
   "execution_count": null,
   "metadata": {},
   "outputs": [],
   "source": [
    "# Define the range of x and y values to plot\n",
    "x = np.linspace(-2, 2, 1000)\n",
    "y = np.linspace(-2, 2, 1000)\n",
    "X, Y = np.meshgrid(x, y)\n",
    "Z = chained_rosenbrock([X, Y])\n",
    "\n",
    "# Plot the contour of the Rosenbrock function\n",
    "plt.contourf(X, Y, Z, levels=100, cmap='RdGy')\n",
    "plt.colorbar()\n",
    "\n",
    "# Display the plot\n",
    "plt.show()"
   ]
  },
  {
   "cell_type": "code",
   "execution_count": null,
   "metadata": {},
   "outputs": [],
   "source": [
    "# Set the first starting point x0 = [1.2, 1.2]\n",
    "x0 = np.array([1, -1.2,1,1.2,1])\n",
    "# Print the starting point\n",
    "print(\"Starting point: x0 =\", x0,'\\n')\n",
    "\n",
    "# Find the optimal point, number of iterations, and elapsed time using the newton_back_tracking method\n",
    "x_opt, iter, elapsed_time = newton_back_tracking(x0, chained_rosenbrock, chained_rosenbrock_gradient, chained_rosenbrock_hessian, c=1e-4, rho=0.5)\n",
    "\n",
    "# Print the results\n",
    "results_out('Newton Method',x_opt,iter,elapsed_time)"
   ]
  },
  {
   "cell_type": "code",
   "execution_count": null,
   "metadata": {},
   "outputs": [],
   "source": [
    "# Set the first starting point x0 = [1.2, 1.2]\n",
    "x0 = np.array([1.2, 1.2])\n",
    "# Print the starting point\n",
    "print(\"Starting point: x0 =\", x0,'\\n')\n",
    "\n",
    "# Find the optimal point, number of iterations, and elapsed time using the newton_back_tracking method\n",
    "x_opt, iter, elapsed_time = newton_back_tracking(x0, rosenbrock, rosenbrock_gradient, rosenbrock_hessian, c=1e-4, rho=0.5)\n",
    "\n",
    "# Print the results\n",
    "results_out('Newton Method',x_opt,iter,elapsed_time)\n",
    "\n",
    "# Find the optimal point, number of iterations, and elapsed time using the steepest_descent_back_tracking method\n",
    "# x_opt, iter, elapsed_time = steepest_descent_back_tracking(x0,c=1e-4, rho=0.5)\n",
    "\n",
    "x_opt, iter, elapsed_time = steepest_descent_back_tracking(x0,rosenbrock, rosenbrock_gradient, epsilon=1e-8, max_iter=100)\n",
    "# Print the results\n",
    "results_out('Steepest Descent Method',x_opt,iter,elapsed_time)\n"
   ]
  },
  {
   "cell_type": "code",
   "execution_count": null,
   "metadata": {},
   "outputs": [],
   "source": [
    "# Set the second starting point x0 = [-1.2, 1]\n",
    "x0 = np.array([-1.2, 1])\n",
    "\n",
    "# Print the starting point\n",
    "print(\"Starting point: x0 =\", x0,'\\n')\n",
    "\n",
    "# Find the optimal point, number of iterations, and elapsed time using the newton_back_tracking method\n",
    "x_opt, iter, elapsed_time = newton_back_tracking(x0, rosenbrock, rosenbrock_gradient, rosenbrock_hessian, c=1e-4, rho=0.5)\n",
    "\n",
    "# Print the results\n",
    "results_out('Newton Method',x_opt,iter,elapsed_time)\n",
    "\n",
    "\n",
    "# Find the optimal point, number of iterations, and elapsed time using the steepest_descent_back_tracking method\n",
    "x_opt, iter, elapsed_time = steepest_descent_back_tracking(x0,rosenbrock, rosenbrock_gradient, epsilon=1e-8, max_iter=100)\n",
    "\n",
    "# Print the results\n",
    "results_out('Steepest Method',x_opt,iter,elapsed_time)\n"
   ]
  }
 ],
 "metadata": {
  "kernelspec": {
   "display_name": "venv",
   "language": "python",
   "name": "python3"
  },
  "language_info": {
   "codemirror_mode": {
    "name": "ipython",
    "version": 3
   },
   "file_extension": ".py",
   "mimetype": "text/x-python",
   "name": "python",
   "nbconvert_exporter": "python",
   "pygments_lexer": "ipython3",
   "version": "3.10.2"
  },
  "orig_nbformat": 4,
  "vscode": {
   "interpreter": {
    "hash": "7af9525b5e638f66f97bbc4bd01d94d236c015f4bf0deb5835770f8430b16297"
   }
  }
 },
 "nbformat": 4,
 "nbformat_minor": 2
}
